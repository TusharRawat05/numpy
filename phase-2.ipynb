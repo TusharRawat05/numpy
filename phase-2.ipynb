{
 "cells": [
  {
   "cell_type": "markdown",
   "id": "484c679e",
   "metadata": {},
   "source": [
    "## Numpy array operation"
   ]
  },
  {
   "cell_type": "code",
   "execution_count": 6,
   "id": "2aeb73cd",
   "metadata": {},
   "outputs": [],
   "source": [
    "import numpy as np\n"
   ]
  },
  {
   "cell_type": "code",
   "execution_count": 7,
   "id": "7130ce93",
   "metadata": {},
   "outputs": [
    {
     "name": "stdout",
     "output_type": "stream",
     "text": [
      "basic slicing : [3 4 5 6 7]\n",
      "with step [2 4 6 8]\n",
      "negative indexing 7\n"
     ]
    }
   ],
   "source": [
    "arr=np.array([1,2,3,4,5,6,7,8,9])\n",
    "print(\"basic slicing :\",arr[2:7])\n",
    "print(\"with step\",arr[1:8:2])\n",
    "print(\"negative indexing\",arr[-3])#last se third value"
   ]
  },
  {
   "cell_type": "code",
   "execution_count": 9,
   "id": "e72ee378",
   "metadata": {},
   "outputs": [
    {
     "name": "stdout",
     "output_type": "stream",
     "text": [
      "specific element: 6\n",
      "enrire row : [4 5 6]\n",
      "entire col : [2 5 8]\n"
     ]
    }
   ],
   "source": [
    "arr_2d=np.array([[1,2,3],\n",
    "                 [4,5,6],\n",
    "                 [7,8,9]])\n",
    "print(\"specific element:\",arr_2d[1,2]) #index not position[row,col]\n",
    "print(\"enrire row :\",arr_2d[1])\n",
    "print(\"entire col :\",arr_2d[:,1])"
   ]
  },
  {
   "cell_type": "markdown",
   "id": "6963e032",
   "metadata": {},
   "source": [
    "## Sorting"
   ]
  },
  {
   "cell_type": "code",
   "execution_count": null,
   "id": "a6420b59",
   "metadata": {},
   "outputs": [
    {
     "name": "stdout",
     "output_type": "stream",
     "text": [
      "sorted array: [1 1 2 2 3 4 4 5 9]\n",
      "sorted 2d_array by row: [[2 1]\n",
      " [3 2]\n",
      " [5 4]]\n",
      "sorted 2d_array: [[1 3]\n",
      " [2 5]\n",
      " [2 4]]\n"
     ]
    }
   ],
   "source": [
    "unsorted=np.array([1,4,2,5,1,3,9,4,2])\n",
    "print(\"sorted array:\",np.sort(unsorted))\n",
    "\n",
    "arr_2d_unsorted=np.array([[3,1],[5,2],[2,4]])\n",
    "print(\"sorted 2d_array by row:\",np.sort(arr_2d_unsorted,axis=0)) # top to bottom\n",
    "print(\"sorted 2d_array:\",np.sort(arr_2d_unsorted,axis=1))#left to right\n"
   ]
  },
  {
   "cell_type": "markdown",
   "id": "5e7260f9",
   "metadata": {},
   "source": [
    "## filter"
   ]
  },
  {
   "cell_type": "code",
   "execution_count": 16,
   "id": "00467c55",
   "metadata": {},
   "outputs": [
    {
     "name": "stdout",
     "output_type": "stream",
     "text": [
      "evens numbers: [ 2  4  6  8 10]\n"
     ]
    }
   ],
   "source": [
    "number=np.array([1,2,3,4,5,6,7,8,9,10])\n",
    "even_number=number[number%2==0]\n",
    "print(\"evens numbers:\",even_number)"
   ]
  },
  {
   "cell_type": "markdown",
   "id": "39915ab1",
   "metadata": {},
   "source": [
    "## filter with mask"
   ]
  },
  {
   "cell_type": "code",
   "execution_count": null,
   "id": "e1a0a70e",
   "metadata": {},
   "outputs": [
    {
     "name": "stdout",
     "output_type": "stream",
     "text": [
      "numbers greater than 5 [ 6  7  8  9 10]\n"
     ]
    }
   ],
   "source": [
    "mask=number>5 ## we store expresion in mask\n",
    "print(\"numbers greater than 5:\",number[mask]) "
   ]
  },
  {
   "cell_type": "markdown",
   "id": "dfedc5b6",
   "metadata": {},
   "source": [
    "## fancy indexing vs np.where()"
   ]
  },
  {
   "cell_type": "code",
   "execution_count": 18,
   "id": "34ebed53",
   "metadata": {},
   "outputs": [
    {
     "name": "stdout",
     "output_type": "stream",
     "text": [
      "idices: [1 3 5]\n",
      "where number greater than 5: [ 6  7  8  9 10]\n"
     ]
    }
   ],
   "source": [
    "indices=[0,2,4]\n",
    "print(\"idices:\",number[indices])\n",
    "\n",
    "where_result=np.where(number>5)\n",
    "print(\"where number greater than 5:\",number[where_result])"
   ]
  },
  {
   "cell_type": "code",
   "execution_count": null,
   "id": "7ad539b9",
   "metadata": {},
   "outputs": [
    {
     "name": "stdout",
     "output_type": "stream",
     "text": [
      "condition_array:  [ 1  2  3  4  5 12 14 16 18 20]\n"
     ]
    }
   ],
   "source": [
    "condition_array=np.where(number>5,number*2,number) # (condtion x,y)\n",
    "print(\"condition_array: \",condition_array)"
   ]
  },
  {
   "cell_type": "markdown",
   "id": "f30ebb90",
   "metadata": {},
   "source": [
    "## for example\n",
    " if(number>5){\n",
    "    number*2\n",
    " }else{\n",
    "   number\n",
    " }"
   ]
  },
  {
   "cell_type": "markdown",
   "id": "3996bcaa",
   "metadata": {},
   "source": [
    "### Adding and removing data"
   ]
  },
  {
   "cell_type": "code",
   "execution_count": 25,
   "id": "d971e2b9",
   "metadata": {},
   "outputs": [
    {
     "name": "stdout",
     "output_type": "stream",
     "text": [
      "[1 2 3 4 5 6]\n"
     ]
    }
   ],
   "source": [
    "arr1=np.array([1,2,3])\n",
    "arr2=np.array([4,5,6])\n",
    "combined=np.concatenate((arr1,arr2))\n",
    "print(combined)"
   ]
  },
  {
   "cell_type": "markdown",
   "id": "be4cd38d",
   "metadata": {},
   "source": [
    "### array compatiblity"
   ]
  },
  {
   "cell_type": "code",
   "execution_count": 28,
   "id": "021a8081",
   "metadata": {},
   "outputs": [
    {
     "name": "stdout",
     "output_type": "stream",
     "text": [
      "compatibility shapes:  True\n"
     ]
    }
   ],
   "source": [
    "arrA1=np.array([1,2,3])\n",
    "arrA2=np.array([4,5,6])\n",
    "arrA3=np.array([7,8,9])\n",
    "print(\"compatibility shapes: \",arrA1.shape== arrA2.shape)"
   ]
  },
  {
   "cell_type": "code",
   "execution_count": 30,
   "id": "b94048e4",
   "metadata": {},
   "outputs": [
    {
     "name": "stdout",
     "output_type": "stream",
     "text": [
      "[[1 2]\n",
      " [3 4]]\n",
      "[[1 2]\n",
      " [3 4]\n",
      " [5 6]]\n",
      "[[1 2]\n",
      " [3 4]]\n",
      "[[1 2 7]\n",
      " [3 4 8]]\n"
     ]
    }
   ],
   "source": [
    "original=np.array([[1,2],[3,4]])\n",
    "new_row=np.array([[5,6]])\n",
    "with_new_row=np.vstack((original,new_row))\n",
    "print(original)\n",
    "print(with_new_row)\n",
    "\n",
    "new_col=np.array([[7],[8]])\n",
    "with_new_col=np.hstack((original,new_col))\n",
    "print(original)\n",
    "print(with_new_col)"
   ]
  },
  {
   "cell_type": "code",
   "execution_count": 31,
   "id": "bbd0aaf8",
   "metadata": {},
   "outputs": [
    {
     "name": "stdout",
     "output_type": "stream",
     "text": [
      "array after deletion: [1 2 4 5 6]\n"
     ]
    }
   ],
   "source": [
    "arr=np.array([1,2,3,4,5,6])\n",
    "deleted=np.delete(arr,2)\n",
    "print(\"array after deletion:\",deleted)"
   ]
  }
 ],
 "metadata": {
  "kernelspec": {
   "display_name": ".venv (3.13.0)",
   "language": "python",
   "name": "python3"
  },
  "language_info": {
   "codemirror_mode": {
    "name": "ipython",
    "version": 3
   },
   "file_extension": ".py",
   "mimetype": "text/x-python",
   "name": "python",
   "nbconvert_exporter": "python",
   "pygments_lexer": "ipython3",
   "version": "3.13.0"
  }
 },
 "nbformat": 4,
 "nbformat_minor": 5
}
