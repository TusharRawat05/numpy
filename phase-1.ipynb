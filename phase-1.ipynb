{
 "cells": [
  {
   "cell_type": "markdown",
   "id": "abc0dd70",
   "metadata": {},
   "source": [
    "##Numpy array and basics\n",
    "learn about numpy"
   ]
  },
  {
   "cell_type": "code",
   "execution_count": 6,
   "id": "b5a5c5c7",
   "metadata": {},
   "outputs": [],
   "source": [
    "import numpy as np"
   ]
  },
  {
   "cell_type": "markdown",
   "id": "381b4095",
   "metadata": {},
   "source": [
    "### creating array from list\n"
   ]
  },
  {
   "cell_type": "code",
   "execution_count": 7,
   "id": "d29b69e9",
   "metadata": {},
   "outputs": [
    {
     "name": "stdout",
     "output_type": "stream",
     "text": [
      "1d array: [1 2 3 4 5]\n",
      "2d array: [[1 2 3]\n",
      " [1 2 3]]\n"
     ]
    }
   ],
   "source": [
    "arr_1d=np.array([1,2,3,4,5])\n",
    "print(\"1d array:\",arr_1d)\n",
    "\n",
    "arr_2d=np.array([[1,2,3],[1,2,3]])\n",
    "print(\"2d array:\",arr_2d)\n"
   ]
  },
  {
   "cell_type": "markdown",
   "id": "21f49ae2",
   "metadata": {},
   "source": [
    "### List vs numpy\n"
   ]
  },
  {
   "cell_type": "code",
   "execution_count": 8,
   "id": "1c98c260",
   "metadata": {},
   "outputs": [
    {
     "name": "stdout",
     "output_type": "stream",
     "text": [
      "python list multiplication [1, 2, 3, 1, 2, 3]\n",
      "python list multiplication [2 4 6]\n"
     ]
    }
   ],
   "source": [
    "py_list=[1,2,3]\n",
    "print(\"python list multiplication\",py_list*2)\n",
    "np_array=np.array([1,2,3])\n",
    "print(\"python list multiplication\",np_array*2)\n"
   ]
  },
  {
   "cell_type": "code",
   "execution_count": 9,
   "id": "94ef78ed",
   "metadata": {},
   "outputs": [
    {
     "name": "stdout",
     "output_type": "stream",
     "text": [
      "\n",
      " List operation time: 0.009533882141113281\n",
      "\n",
      " numpy operation time: 0.0050160884857177734\n"
     ]
    }
   ],
   "source": [
    "import time\n",
    "start=time.time()\n",
    "py_list=[i*2 for i in range(100000)]\n",
    "print(\"\\n List operation time:\",time.time()-start)\n",
    "\n",
    "start=time.time()\n",
    "np_array=np.arange(100000)*2\n",
    "print(\"\\n numpy operation time:\",time.time()-start)\n",
    "\n"
   ]
  },
  {
   "cell_type": "markdown",
   "id": "d9e23c56",
   "metadata": {},
   "source": [
    "### creating array from scratch\n"
   ]
  },
  {
   "cell_type": "code",
   "execution_count": 13,
   "id": "f0ee1bad",
   "metadata": {},
   "outputs": [
    {
     "name": "stdout",
     "output_type": "stream",
     "text": [
      "zero array: [[0. 0. 0. 0.]\n",
      " [0. 0. 0. 0.]\n",
      " [0. 0. 0. 0.]]\n",
      "ones array [[1. 1. 1. 1.]\n",
      " [1. 1. 1. 1.]\n",
      " [1. 1. 1. 1.]\n",
      " [1. 1. 1. 1.]]\n",
      "full array:\n",
      " [[7 7]\n",
      " [7 7]]\n",
      "random :\n",
      " [[0.2423782  0.18491504 0.7059516 ]\n",
      " [0.988289   0.90999877 0.52201543]]\n",
      "sequence:\n",
      " [0 2 4 6 8]\n"
     ]
    }
   ],
   "source": [
    "zeros=np.zeros((3,4))\n",
    "print(\"zero array:\",zeros)\n",
    "\n",
    "ones=np.ones((4,4))\n",
    "print(\"ones array\",ones)\n",
    "\n",
    "full=np.full((2,2),7)\n",
    "print(\"full array:\\n\", full)\n",
    "\n",
    "random=np.random.random((2,3))\n",
    "print(\"random :\\n\",random)\n",
    "\n",
    "sequence=np.arange(0,10,2)\n",
    "print(\"sequence:\\n\",sequence)"
   ]
  },
  {
   "cell_type": "markdown",
   "id": "07bed6cc",
   "metadata": {},
   "source": [
    "### vector ,matrix and tensor\n"
   ]
  },
  {
   "cell_type": "code",
   "execution_count": 14,
   "id": "227eac60",
   "metadata": {},
   "outputs": [
    {
     "name": "stdout",
     "output_type": "stream",
     "text": [
      "vector: [1 2 3]\n",
      "matrix:\n",
      " [[1 2 3]\n",
      " [4 5 6]]\n",
      "tensor:\n",
      " [[[1 2 3]\n",
      "  [4 5 6]]\n",
      "\n",
      " [[1 2 3]\n",
      "  [4 5 6]]]\n"
     ]
    }
   ],
   "source": [
    "vector=np.array([1,2,3])\n",
    "print(\"vector:\",vector)\n",
    "\n",
    "matrix=np.array([[1,2,3],[4,5,6]])\n",
    "print(\"matrix:\\n\",matrix)\n",
    "\n",
    "tensor=np.array([[[1,2,3],[4,5,6]],\n",
    "                 [[1,2,3],[4,5,6]]])\n",
    "print(\"tensor:\\n\",tensor)"
   ]
  },
  {
   "cell_type": "markdown",
   "id": "4b2d4387",
   "metadata": {},
   "source": [
    "### array properties"
   ]
  },
  {
   "cell_type": "code",
   "execution_count": 15,
   "id": "ed9d8220",
   "metadata": {},
   "outputs": [
    {
     "name": "stdout",
     "output_type": "stream",
     "text": [
      "shape of array (2, 3)\n",
      "dimension of array 2\n",
      "size of array 6\n",
      "Dtype of array int64\n"
     ]
    }
   ],
   "source": [
    "arr=np.array([[1,2,3],[4,5,6]])\n",
    "print(\"shape of array\",arr.shape)\n",
    "print(\"dimension of array\",arr.ndim)\n",
    "print(\"size of array\",arr.size)\n",
    "print(\"Dtype of array\",arr.dtype)\n",
    "\n",
    "\n"
   ]
  },
  {
   "cell_type": "markdown",
   "id": "ed0adb2b",
   "metadata": {},
   "source": [
    "### array reshaping"
   ]
  },
  {
   "cell_type": "code",
   "execution_count": null,
   "id": "3f592be8",
   "metadata": {},
   "outputs": [
    {
     "name": "stdout",
     "output_type": "stream",
     "text": [
      "original array:\n",
      " [ 0  1  2  3  4  5  6  7  8  9 10 11]\n",
      "reshaped array:\n",
      " [[ 0  1  2  3]\n",
      " [ 4  5  6  7]\n",
      " [ 8  9 10 11]]\n",
      "flatten array:\n",
      " [ 0  1  2  3  4  5  6  7  8  9 10 11]\n",
      "ravel array:\n",
      " [ 0  1  2  3  4  5  6  7  8  9 10 11]\n"
     ]
    }
   ],
   "source": [
    "arr=np.arange(12)\n",
    "print(\"original array:\\n\",arr)\n",
    "\n",
    "reshaped=arr.reshape((3,4))\n",
    "print(\"reshaped array:\\n\",reshaped)\n",
    "\n",
    "flattend=reshaped.flatten()\n",
    "print(\"flatten array:\\n\",flattend)\n",
    "\n",
    "#ravel(returns view, instead of copy)\n",
    "raveled=reshaped.ravel()\n",
    "print(\"ravel array:\\n\",raveled)\n",
    "\n",
    "#tranpose\n",
    "transposed=raveled.T()\n",
    "print(\"transpose array:\\n\",transposed)\n",
    "\n",
    "\n",
    "\n",
    "\n"
   ]
  }
 ],
 "metadata": {
  "kernelspec": {
   "display_name": ".venv (3.13.0)",
   "language": "python",
   "name": "python3"
  },
  "language_info": {
   "codemirror_mode": {
    "name": "ipython",
    "version": 3
   },
   "file_extension": ".py",
   "mimetype": "text/x-python",
   "name": "python",
   "nbconvert_exporter": "python",
   "pygments_lexer": "ipython3",
   "version": "3.13.0"
  }
 },
 "nbformat": 4,
 "nbformat_minor": 5
}
